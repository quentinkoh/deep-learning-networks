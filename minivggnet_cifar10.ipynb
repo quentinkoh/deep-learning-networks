{
 "cells": [
  {
   "cell_type": "code",
   "execution_count": 1,
   "metadata": {},
   "outputs": [
    {
     "name": "stderr",
     "output_type": "stream",
     "text": [
      "C:\\Anaconda\\lib\\site-packages\\h5py\\__init__.py:36: FutureWarning: Conversion of the second argument of issubdtype from `float` to `np.floating` is deprecated. In future, it will be treated as `np.float64 == np.dtype(float).type`.\n",
      "  from ._conv import register_converters as _register_converters\n",
      "Using TensorFlow backend.\n"
     ]
    },
    {
     "name": "stdout",
     "output_type": "stream",
     "text": [
      "Couldn't import dot_parser, loading of dot files will not be possible.\n"
     ]
    }
   ],
   "source": [
    "# import the necessary packages\n",
    "import numpy as np\n",
    "import pandas as pd\n",
    "import matplotlib.pyplot as plt\n",
    "%matplotlib inline\n",
    "\n",
    "pd.set_option('display.max_rows', 1000)\n",
    "pd.set_option('display.max_columns', 1000)\n",
    "\n",
    "from sklearn.preprocessing import LabelBinarizer\n",
    "from sklearn.metrics import classification_report\n",
    "\n",
    "from keras.optimizers import SGD\n",
    "from keras.datasets import cifar10\n",
    "\n",
    "from personal.minivggnet import MiniVGGNet"
   ]
  },
  {
   "cell_type": "markdown",
   "metadata": {},
   "source": [
    "## Train test split on cifar10 dataset"
   ]
  },
  {
   "cell_type": "code",
   "execution_count": 2,
   "metadata": {},
   "outputs": [
    {
     "name": "stdout",
     "output_type": "stream",
     "text": [
      "xtrain shape: (50000, 32, 32, 3) | ytrain shape: (50000, 10) \n",
      "\n",
      "xtest shape: (10000, 32, 32, 3) | ytest shape: (10000, 10)\n"
     ]
    }
   ],
   "source": [
    "# train and test sets and normalizing our input data\n",
    "((xtrain, ytrain), (xtest, ytest)) = cifar10.load_data()\n",
    "xtrain = xtrain.astype(np.float32) / 255.0\n",
    "xtest = xtest.astype(np.float32) / 255.0\n",
    "\n",
    "# one hot encode our class labels\n",
    "lb = LabelBinarizer()\n",
    "ytrain = lb.fit_transform(ytrain)\n",
    "ytest = lb.transform(ytest)\n",
    "\n",
    "print('xtrain shape: {} | ytrain shape: {}'.format(xtrain.shape, ytrain.shape), '\\n')\n",
    "print('xtest shape: {} | ytest shape: {}'.format(xtest.shape, ytest.shape))"
   ]
  },
  {
   "cell_type": "markdown",
   "metadata": {},
   "source": [
    "## Global parameter settings"
   ]
  },
  {
   "cell_type": "code",
   "execution_count": 3,
   "metadata": {},
   "outputs": [],
   "source": [
    "num_classes = 10\n",
    "max_epochs = 40\n",
    "batch_size = 64\n",
    "learning_rate = 0.01\n",
    "mom = 0.9\n",
    "decay = learning_rate / max_epochs"
   ]
  },
  {
   "cell_type": "markdown",
   "metadata": {},
   "source": [
    "## Initializing the optimizer and training the network"
   ]
  },
  {
   "cell_type": "code",
   "execution_count": 4,
   "metadata": {},
   "outputs": [
    {
     "name": "stdout",
     "output_type": "stream",
     "text": [
      "_________________________________________________________________\n",
      "Layer (type)                 Output Shape              Param #   \n",
      "=================================================================\n",
      "conv2d_1 (Conv2D)            (None, 32, 32, 32)        896       \n",
      "_________________________________________________________________\n",
      "activation_1 (Activation)    (None, 32, 32, 32)        0         \n",
      "_________________________________________________________________\n",
      "batch_normalization_1 (Batch (None, 32, 32, 32)        128       \n",
      "_________________________________________________________________\n",
      "conv2d_2 (Conv2D)            (None, 32, 32, 32)        9248      \n",
      "_________________________________________________________________\n",
      "activation_2 (Activation)    (None, 32, 32, 32)        0         \n",
      "_________________________________________________________________\n",
      "batch_normalization_2 (Batch (None, 32, 32, 32)        128       \n",
      "_________________________________________________________________\n",
      "max_pooling2d_1 (MaxPooling2 (None, 16, 16, 32)        0         \n",
      "_________________________________________________________________\n",
      "dropout_1 (Dropout)          (None, 16, 16, 32)        0         \n",
      "_________________________________________________________________\n",
      "conv2d_3 (Conv2D)            (None, 16, 16, 64)        18496     \n",
      "_________________________________________________________________\n",
      "activation_3 (Activation)    (None, 16, 16, 64)        0         \n",
      "_________________________________________________________________\n",
      "batch_normalization_3 (Batch (None, 16, 16, 64)        256       \n",
      "_________________________________________________________________\n",
      "conv2d_4 (Conv2D)            (None, 16, 16, 64)        36928     \n",
      "_________________________________________________________________\n",
      "activation_4 (Activation)    (None, 16, 16, 64)        0         \n",
      "_________________________________________________________________\n",
      "batch_normalization_4 (Batch (None, 16, 16, 64)        256       \n",
      "_________________________________________________________________\n",
      "max_pooling2d_2 (MaxPooling2 (None, 8, 8, 64)          0         \n",
      "_________________________________________________________________\n",
      "dropout_2 (Dropout)          (None, 8, 8, 64)          0         \n",
      "_________________________________________________________________\n",
      "flatten_1 (Flatten)          (None, 4096)              0         \n",
      "_________________________________________________________________\n",
      "dense_1 (Dense)              (None, 512)               2097664   \n",
      "_________________________________________________________________\n",
      "activation_5 (Activation)    (None, 512)               0         \n",
      "_________________________________________________________________\n",
      "batch_normalization_5 (Batch (None, 512)               2048      \n",
      "_________________________________________________________________\n",
      "dropout_3 (Dropout)          (None, 512)               0         \n",
      "_________________________________________________________________\n",
      "dense_2 (Dense)              (None, 10)                5130      \n",
      "_________________________________________________________________\n",
      "activation_6 (Activation)    (None, 10)                0         \n",
      "=================================================================\n",
      "Total params: 2,171,178\n",
      "Trainable params: 2,169,770\n",
      "Non-trainable params: 1,408\n",
      "_________________________________________________________________\n"
     ]
    }
   ],
   "source": [
    "opt = SGD(lr=learning_rate, decay=decay, momentum=mom, nesterov=True)\n",
    "\n",
    "model = MiniVGGNet.build(width=32, height=32, depth=3, classes=num_classes)\n",
    "model.summary()"
   ]
  },
  {
   "cell_type": "code",
   "execution_count": 5,
   "metadata": {},
   "outputs": [
    {
     "name": "stdout",
     "output_type": "stream",
     "text": [
      "Train on 50000 samples, validate on 10000 samples\n",
      "Epoch 1/40\n",
      "50000/50000 [==============================] - 22s 444us/step - loss: 1.6295 - acc: 0.4541 - val_loss: 1.2057 - val_acc: 0.5876\n",
      "Epoch 2/40\n",
      "50000/50000 [==============================] - 19s 386us/step - loss: 1.1471 - acc: 0.6035 - val_loss: 0.9380 - val_acc: 0.6718\n",
      "Epoch 3/40\n",
      "50000/50000 [==============================] - 19s 384us/step - loss: 0.9624 - acc: 0.6620 - val_loss: 0.8322 - val_acc: 0.7045\n",
      "Epoch 4/40\n",
      "50000/50000 [==============================] - 19s 379us/step - loss: 0.8616 - acc: 0.6991 - val_loss: 0.7621 - val_acc: 0.7297\n",
      "Epoch 5/40\n",
      "50000/50000 [==============================] - 19s 389us/step - loss: 0.7888 - acc: 0.7229 - val_loss: 0.7482 - val_acc: 0.7421\n",
      "Epoch 6/40\n",
      "50000/50000 [==============================] - 20s 404us/step - loss: 0.7327 - acc: 0.7420 - val_loss: 0.7074 - val_acc: 0.7551\n",
      "Epoch 7/40\n",
      "50000/50000 [==============================] - 21s 420us/step - loss: 0.6846 - acc: 0.7593 - val_loss: 0.6531 - val_acc: 0.7730\n",
      "Epoch 8/40\n",
      "50000/50000 [==============================] - 21s 427us/step - loss: 0.6471 - acc: 0.7728 - val_loss: 0.6408 - val_acc: 0.7758\n",
      "Epoch 9/40\n",
      "50000/50000 [==============================] - 21s 426us/step - loss: 0.6078 - acc: 0.7862 - val_loss: 0.6546 - val_acc: 0.7688\n",
      "Epoch 10/40\n",
      "50000/50000 [==============================] - 21s 427us/step - loss: 0.5803 - acc: 0.7944 - val_loss: 0.6469 - val_acc: 0.7750\n",
      "Epoch 11/40\n",
      "50000/50000 [==============================] - 21s 426us/step - loss: 0.5514 - acc: 0.8052 - val_loss: 0.6142 - val_acc: 0.7882\n",
      "Epoch 12/40\n",
      "50000/50000 [==============================] - 22s 446us/step - loss: 0.5282 - acc: 0.8138 - val_loss: 0.6069 - val_acc: 0.7878\n",
      "Epoch 13/40\n",
      "50000/50000 [==============================] - 29s 589us/step - loss: 0.5078 - acc: 0.8210 - val_loss: 0.5936 - val_acc: 0.7946\n",
      "Epoch 14/40\n",
      "50000/50000 [==============================] - 42s 839us/step - loss: 0.4861 - acc: 0.8288 - val_loss: 0.5916 - val_acc: 0.7964\n",
      "Epoch 15/40\n",
      "50000/50000 [==============================] - 31s 629us/step - loss: 0.4657 - acc: 0.8344 - val_loss: 0.5844 - val_acc: 0.8002\n",
      "Epoch 16/40\n",
      "50000/50000 [==============================] - 36s 714us/step - loss: 0.4498 - acc: 0.8403 - val_loss: 0.5873 - val_acc: 0.8024\n",
      "Epoch 17/40\n",
      "50000/50000 [==============================] - 29s 578us/step - loss: 0.4336 - acc: 0.8457 - val_loss: 0.5931 - val_acc: 0.7982\n",
      "Epoch 18/40\n",
      "50000/50000 [==============================] - 33s 654us/step - loss: 0.4136 - acc: 0.8531 - val_loss: 0.5704 - val_acc: 0.8075\n",
      "Epoch 19/40\n",
      "50000/50000 [==============================] - 29s 579us/step - loss: 0.4020 - acc: 0.8577 - val_loss: 0.5695 - val_acc: 0.8073\n",
      "Epoch 20/40\n",
      "50000/50000 [==============================] - 31s 613us/step - loss: 0.3964 - acc: 0.8591 - val_loss: 0.5771 - val_acc: 0.8071\n",
      "Epoch 21/40\n",
      "50000/50000 [==============================] - 34s 682us/step - loss: 0.3827 - acc: 0.8646 - val_loss: 0.5689 - val_acc: 0.8076\n",
      "Epoch 22/40\n",
      "50000/50000 [==============================] - 27s 549us/step - loss: 0.3669 - acc: 0.8705 - val_loss: 0.5593 - val_acc: 0.8107\n",
      "Epoch 23/40\n",
      "50000/50000 [==============================] - 34s 675us/step - loss: 0.3588 - acc: 0.8714 - val_loss: 0.5652 - val_acc: 0.8130\n",
      "Epoch 24/40\n",
      "50000/50000 [==============================] - 31s 621us/step - loss: 0.3473 - acc: 0.8756 - val_loss: 0.5479 - val_acc: 0.8145\n",
      "Epoch 25/40\n",
      "50000/50000 [==============================] - 29s 581us/step - loss: 0.3403 - acc: 0.8787 - val_loss: 0.5596 - val_acc: 0.8120\n",
      "Epoch 26/40\n",
      "50000/50000 [==============================] - 34s 685us/step - loss: 0.3328 - acc: 0.8802 - val_loss: 0.5468 - val_acc: 0.8176\n",
      "Epoch 27/40\n",
      "50000/50000 [==============================] - 32s 640us/step - loss: 0.3192 - acc: 0.8862 - val_loss: 0.5676 - val_acc: 0.8117\n",
      "Epoch 28/40\n",
      "50000/50000 [==============================] - 31s 610us/step - loss: 0.3128 - acc: 0.8893 - val_loss: 0.5483 - val_acc: 0.8187\n",
      "Epoch 29/40\n",
      "50000/50000 [==============================] - 28s 559us/step - loss: 0.3014 - acc: 0.8939 - val_loss: 0.5545 - val_acc: 0.8163\n",
      "Epoch 30/40\n",
      "50000/50000 [==============================] - 31s 624us/step - loss: 0.3035 - acc: 0.8899 - val_loss: 0.5562 - val_acc: 0.8164\n",
      "Epoch 31/40\n",
      "50000/50000 [==============================] - 36s 712us/step - loss: 0.2896 - acc: 0.8966 - val_loss: 0.5591 - val_acc: 0.8192\n",
      "Epoch 32/40\n",
      "50000/50000 [==============================] - 36s 718us/step - loss: 0.2831 - acc: 0.8982 - val_loss: 0.5498 - val_acc: 0.8192\n",
      "Epoch 33/40\n",
      "50000/50000 [==============================] - 32s 637us/step - loss: 0.2800 - acc: 0.9000 - val_loss: 0.5616 - val_acc: 0.8188\n",
      "Epoch 34/40\n",
      "50000/50000 [==============================] - 36s 727us/step - loss: 0.2755 - acc: 0.9006 - val_loss: 0.5655 - val_acc: 0.8175\n",
      "Epoch 35/40\n",
      "50000/50000 [==============================] - 38s 757us/step - loss: 0.2697 - acc: 0.9041 - val_loss: 0.5584 - val_acc: 0.8180\n",
      "Epoch 36/40\n",
      "50000/50000 [==============================] - 36s 717us/step - loss: 0.2637 - acc: 0.9048 - val_loss: 0.5680 - val_acc: 0.8187\n",
      "Epoch 37/40\n",
      "50000/50000 [==============================] - 33s 660us/step - loss: 0.2586 - acc: 0.9076 - val_loss: 0.5598 - val_acc: 0.8201\n",
      "Epoch 38/40\n",
      "50000/50000 [==============================] - 35s 695us/step - loss: 0.2488 - acc: 0.9113 - val_loss: 0.5619 - val_acc: 0.8219\n",
      "Epoch 39/40\n",
      "50000/50000 [==============================] - 37s 738us/step - loss: 0.2489 - acc: 0.9113 - val_loss: 0.5638 - val_acc: 0.8212\n",
      "Epoch 40/40\n",
      "50000/50000 [==============================] - 34s 673us/step - loss: 0.2414 - acc: 0.9133 - val_loss: 0.5606 - val_acc: 0.8246\n"
     ]
    }
   ],
   "source": [
    "model.compile(loss='categorical_crossentropy', optimizer=opt, metrics=['accuracy'])\n",
    "history = model.fit(xtrain, ytrain, validation_data=(xtest, ytest), batch_size=batch_size,\n",
    "                   epochs=max_epochs, verbose=1)"
   ]
  },
  {
   "cell_type": "markdown",
   "metadata": {},
   "source": [
    "## Evaluating the network and classification report"
   ]
  },
  {
   "cell_type": "code",
   "execution_count": 6,
   "metadata": {},
   "outputs": [
    {
     "name": "stdout",
     "output_type": "stream",
     "text": [
      "              precision    recall  f1-score   support\n",
      "\n",
      "    airplane       0.87      0.80      0.84      1000\n",
      "  automobile       0.93      0.93      0.93      1000\n",
      "        bird       0.74      0.73      0.74      1000\n",
      "         cat       0.69      0.65      0.67      1000\n",
      "        deer       0.75      0.83      0.79      1000\n",
      "         dog       0.75      0.74      0.75      1000\n",
      "        frog       0.84      0.91      0.87      1000\n",
      "       horse       0.90      0.85      0.87      1000\n",
      "        ship       0.90      0.91      0.90      1000\n",
      "       truck       0.88      0.91      0.90      1000\n",
      "\n",
      "   micro avg       0.82      0.82      0.82     10000\n",
      "   macro avg       0.82      0.82      0.82     10000\n",
      "weighted avg       0.82      0.82      0.82     10000\n",
      "\n"
     ]
    }
   ],
   "source": [
    "ypred = model.predict(xtest, batch_size=batch_size)\n",
    "\n",
    "# class label names for cifar10 dataset\n",
    "label_names = ['airplane', 'automobile', 'bird',\n",
    "               'cat', 'deer', 'dog', 'frog',\n",
    "               'horse', 'ship', 'truck']\n",
    "\n",
    "# classification report\n",
    "print(classification_report(ytest.argmax(axis=1),\n",
    "                           ypred.argmax(axis=1),\n",
    "                           target_names=label_names))"
   ]
  },
  {
   "cell_type": "markdown",
   "metadata": {},
   "source": [
    "## Training loss and accuracy"
   ]
  },
  {
   "cell_type": "code",
   "execution_count": 7,
   "metadata": {},
   "outputs": [
    {
     "data": {
      "image/png": "[encoded data removed]",
      "text/plain": [
       "<Figure size 720x504 with 1 Axes>"
      ]
     },
     "metadata": {},
     "output_type": "display_data"
    }
   ],
   "source": [
    "plt.style.use('ggplot')\n",
    "plt.figure(figsize=(10, 7))\n",
    "\n",
    "plt.plot(np.arange(max_epochs), history.history['loss'], label='train_loss')\n",
    "plt.plot(np.arange(max_epochs), history.history['val_loss'], label='val_loss')\n",
    "plt.plot(np.arange(max_epochs), history.history['acc'], label='train_acc')\n",
    "plt.plot(np.arange(max_epochs), history.history['val_acc'], label='val_acc')\n",
    "\n",
    "plt.title('Training Loss and Accuracy')\n",
    "plt.xlabel('Epoch #')\n",
    "plt.ylabel('Loss / Accuracy')\n",
    "plt.legend()\n",
    "plt.show()"
   ]
  },
  {
   "cell_type": "code",
   "execution_count": null,
   "metadata": {},
   "outputs": [],
   "source": []
  }
 ],
 "metadata": {
  "kernelspec": {
   "display_name": "Python 3",
   "language": "python",
   "name": "python3"
  },
  "language_info": {
   "codemirror_mode": {
    "name": "ipython",
    "version": 3
   },
   "file_extension": ".py",
   "mimetype": "text/x-python",
   "name": "python",
   "nbconvert_exporter": "python",
   "pygments_lexer": "ipython3",
   "version": "3.6.5"
  }
 },
 "nbformat": 4,
 "nbformat_minor": 2
}
