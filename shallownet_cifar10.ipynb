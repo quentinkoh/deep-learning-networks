{
 "cells": [
  {
   "cell_type": "code",
   "execution_count": 1,
   "metadata": {},
   "outputs": [
    {
     "name": "stderr",
     "output_type": "stream",
     "text": [
      "C:\\Anaconda\\lib\\site-packages\\h5py\\__init__.py:36: FutureWarning: Conversion of the second argument of issubdtype from `float` to `np.floating` is deprecated. In future, it will be treated as `np.float64 == np.dtype(float).type`.\n",
      "  from ._conv import register_converters as _register_converters\n",
      "Using TensorFlow backend.\n"
     ]
    },
    {
     "name": "stdout",
     "output_type": "stream",
     "text": [
      "Couldn't import dot_parser, loading of dot files will not be possible.\n"
     ]
    }
   ],
   "source": [
    "# import the necessary packages\n",
    "import numpy as np\n",
    "import pandas as pd\n",
    "import matplotlib.pyplot as plt\n",
    "%matplotlib inline\n",
    "\n",
    "pd.set_option('display.max_rows', 1000)\n",
    "pd.set_option('display.max_columns', 1000)\n",
    "\n",
    "from sklearn.preprocessing import LabelBinarizer\n",
    "from sklearn.metrics import classification_report\n",
    "\n",
    "from keras.optimizers import SGD\n",
    "from keras.datasets import cifar10\n",
    "\n",
    "from personal.shallownet import ShallowNet"
   ]
  },
  {
   "cell_type": "markdown",
   "metadata": {},
   "source": [
    "## Train test split on cifar10 dataset"
   ]
  },
  {
   "cell_type": "code",
   "execution_count": 2,
   "metadata": {},
   "outputs": [
    {
     "name": "stdout",
     "output_type": "stream",
     "text": [
      "xtrain shape: (50000, 32, 32, 3) | ytrain shape: (50000, 10) \n",
      "\n",
      "xtest shape: (10000, 32, 32, 3) | ytest shape: (10000, 10)\n"
     ]
    }
   ],
   "source": [
    "# train and test sets and normalizing our input data\n",
    "((xtrain, ytrain), (xtest, ytest)) = cifar10.load_data()\n",
    "xtrain = xtrain.astype(np.float32) / 255.0\n",
    "xtest = xtest.astype(np.float32) / 255.0\n",
    "\n",
    "# one hot encode our class labels\n",
    "lb = LabelBinarizer()\n",
    "ytrain = lb.fit_transform(ytrain)\n",
    "ytest = lb.transform(ytest)\n",
    "\n",
    "print('xtrain shape: {} | ytrain shape: {}'.format(xtrain.shape, ytrain.shape), '\\n')\n",
    "print('xtest shape: {} | ytest shape: {}'.format(xtest.shape, ytest.shape))"
   ]
  },
  {
   "cell_type": "markdown",
   "metadata": {},
   "source": [
    "## Global parameter settings"
   ]
  },
  {
   "cell_type": "code",
   "execution_count": 3,
   "metadata": {},
   "outputs": [],
   "source": [
    "num_classes = 10\n",
    "max_epochs = 50\n",
    "batch_size = 32\n",
    "learning_rate = 0.01"
   ]
  },
  {
   "cell_type": "markdown",
   "metadata": {},
   "source": [
    "## Initializing the optimizer and training the network"
   ]
  },
  {
   "cell_type": "code",
   "execution_count": 4,
   "metadata": {},
   "outputs": [
    {
     "name": "stdout",
     "output_type": "stream",
     "text": [
      "_________________________________________________________________\n",
      "Layer (type)                 Output Shape              Param #   \n",
      "=================================================================\n",
      "conv2d_1 (Conv2D)            (None, 32, 32, 32)        896       \n",
      "_________________________________________________________________\n",
      "activation_1 (Activation)    (None, 32, 32, 32)        0         \n",
      "_________________________________________________________________\n",
      "flatten_1 (Flatten)          (None, 32768)             0         \n",
      "_________________________________________________________________\n",
      "dense_1 (Dense)              (None, 10)                327690    \n",
      "_________________________________________________________________\n",
      "activation_2 (Activation)    (None, 10)                0         \n",
      "=================================================================\n",
      "Total params: 328,586\n",
      "Trainable params: 328,586\n",
      "Non-trainable params: 0\n",
      "_________________________________________________________________\n"
     ]
    }
   ],
   "source": [
    "opt = SGD(lr = learning_rate)\n",
    "\n",
    "model = ShallowNet.build(width=32, height=32, depth=3, classes=num_classes)\n",
    "model.summary()"
   ]
  },
  {
   "cell_type": "code",
   "execution_count": 5,
   "metadata": {},
   "outputs": [
    {
     "name": "stdout",
     "output_type": "stream",
     "text": [
      "Train on 50000 samples, validate on 10000 samples\n",
      "Epoch 1/50\n",
      "50000/50000 [==============================] - 128s 3ms/step - loss: 1.8272 - acc: 0.3587 - val_loss: 1.6848 - val_acc: 0.4001\n",
      "Epoch 2/50\n",
      "50000/50000 [==============================] - 8s 160us/step - loss: 1.5330 - acc: 0.4678 - val_loss: 1.4408 - val_acc: 0.4971\n",
      "Epoch 3/50\n",
      "50000/50000 [==============================] - 8s 163us/step - loss: 1.3820 - acc: 0.5152 - val_loss: 1.3666 - val_acc: 0.5163\n",
      "Epoch 4/50\n",
      "50000/50000 [==============================] - 7s 148us/step - loss: 1.3037 - acc: 0.5436 - val_loss: 1.3554 - val_acc: 0.5204\n",
      "Epoch 5/50\n",
      "50000/50000 [==============================] - 8s 166us/step - loss: 1.2599 - acc: 0.5588 - val_loss: 1.3230 - val_acc: 0.5290\n",
      "Epoch 6/50\n",
      "50000/50000 [==============================] - 7s 149us/step - loss: 1.2267 - acc: 0.5697 - val_loss: 1.3105 - val_acc: 0.5313\n",
      "Epoch 7/50\n",
      "50000/50000 [==============================] - 8s 156us/step - loss: 1.2002 - acc: 0.5780 - val_loss: 1.2995 - val_acc: 0.5356\n",
      "Epoch 8/50\n",
      "50000/50000 [==============================] - 8s 163us/step - loss: 1.1742 - acc: 0.5900 - val_loss: 1.3537 - val_acc: 0.5212\n",
      "Epoch 9/50\n",
      "50000/50000 [==============================] - 8s 157us/step - loss: 1.1542 - acc: 0.5954 - val_loss: 1.2600 - val_acc: 0.5519\n",
      "Epoch 10/50\n",
      "50000/50000 [==============================] - 8s 156us/step - loss: 1.1306 - acc: 0.6059 - val_loss: 1.2738 - val_acc: 0.5510\n",
      "Epoch 11/50\n",
      "50000/50000 [==============================] - 8s 158us/step - loss: 1.1117 - acc: 0.6121 - val_loss: 1.2290 - val_acc: 0.5670\n",
      "Epoch 12/50\n",
      "50000/50000 [==============================] - 8s 162us/step - loss: 1.0913 - acc: 0.6210 - val_loss: 1.2910 - val_acc: 0.5433\n",
      "Epoch 13/50\n",
      "50000/50000 [==============================] - 8s 157us/step - loss: 1.0721 - acc: 0.6263 - val_loss: 1.2412 - val_acc: 0.5621\n",
      "Epoch 14/50\n",
      "50000/50000 [==============================] - 8s 158us/step - loss: 1.0516 - acc: 0.6349 - val_loss: 1.2172 - val_acc: 0.5688\n",
      "Epoch 15/50\n",
      "50000/50000 [==============================] - 8s 163us/step - loss: 1.0284 - acc: 0.6430 - val_loss: 1.2330 - val_acc: 0.5642\n",
      "Epoch 16/50\n",
      "50000/50000 [==============================] - 8s 162us/step - loss: 1.0108 - acc: 0.6482 - val_loss: 1.3147 - val_acc: 0.5516\n",
      "Epoch 17/50\n",
      "50000/50000 [==============================] - 8s 158us/step - loss: 0.9881 - acc: 0.6569 - val_loss: 1.2354 - val_acc: 0.5660\n",
      "Epoch 18/50\n",
      "50000/50000 [==============================] - 8s 157us/step - loss: 0.9702 - acc: 0.6636 - val_loss: 1.1797 - val_acc: 0.5900\n",
      "Epoch 19/50\n",
      "50000/50000 [==============================] - 8s 156us/step - loss: 0.9526 - acc: 0.6703 - val_loss: 1.2812 - val_acc: 0.5556\n",
      "Epoch 20/50\n",
      "50000/50000 [==============================] - 8s 158us/step - loss: 0.9318 - acc: 0.6785 - val_loss: 1.1831 - val_acc: 0.5926\n",
      "Epoch 21/50\n",
      "50000/50000 [==============================] - 8s 156us/step - loss: 0.9141 - acc: 0.6837 - val_loss: 1.2478 - val_acc: 0.5649\n",
      "Epoch 22/50\n",
      "50000/50000 [==============================] - 8s 158us/step - loss: 0.8957 - acc: 0.6908 - val_loss: 1.1595 - val_acc: 0.5985\n",
      "Epoch 23/50\n",
      "50000/50000 [==============================] - 8s 154us/step - loss: 0.8796 - acc: 0.6959 - val_loss: 1.1562 - val_acc: 0.6010\n",
      "Epoch 24/50\n",
      "50000/50000 [==============================] - 8s 158us/step - loss: 0.8645 - acc: 0.7025 - val_loss: 1.2865 - val_acc: 0.5476\n",
      "Epoch 25/50\n",
      "50000/50000 [==============================] - 8s 153us/step - loss: 0.8483 - acc: 0.7081 - val_loss: 1.2460 - val_acc: 0.5667\n",
      "Epoch 26/50\n",
      "50000/50000 [==============================] - 8s 157us/step - loss: 0.8336 - acc: 0.7117 - val_loss: 1.2434 - val_acc: 0.5679\n",
      "Epoch 27/50\n",
      "50000/50000 [==============================] - 8s 164us/step - loss: 0.8154 - acc: 0.7184 - val_loss: 1.2350 - val_acc: 0.5814\n",
      "Epoch 28/50\n",
      "50000/50000 [==============================] - 9s 188us/step - loss: 0.8060 - acc: 0.7219 - val_loss: 1.2253 - val_acc: 0.5859\n",
      "Epoch 29/50\n",
      "50000/50000 [==============================] - 9s 176us/step - loss: 0.7894 - acc: 0.7278 - val_loss: 1.1901 - val_acc: 0.5963\n",
      "Epoch 30/50\n",
      "50000/50000 [==============================] - 9s 189us/step - loss: 0.7773 - acc: 0.7341 - val_loss: 1.2085 - val_acc: 0.5909\n",
      "Epoch 31/50\n",
      "50000/50000 [==============================] - 8s 169us/step - loss: 0.7649 - acc: 0.7369 - val_loss: 1.2361 - val_acc: 0.5810\n",
      "Epoch 32/50\n",
      "50000/50000 [==============================] - 8s 165us/step - loss: 0.7518 - acc: 0.7420 - val_loss: 1.2544 - val_acc: 0.5840\n",
      "Epoch 33/50\n",
      "50000/50000 [==============================] - 8s 160us/step - loss: 0.7397 - acc: 0.7465 - val_loss: 1.2540 - val_acc: 0.5887\n",
      "Epoch 34/50\n",
      "50000/50000 [==============================] - 8s 156us/step - loss: 0.7260 - acc: 0.7504 - val_loss: 1.2232 - val_acc: 0.5886\n",
      "Epoch 35/50\n",
      "50000/50000 [==============================] - 8s 165us/step - loss: 0.7147 - acc: 0.7547 - val_loss: 1.2028 - val_acc: 0.6003\n",
      "Epoch 36/50\n",
      "50000/50000 [==============================] - 8s 159us/step - loss: 0.7026 - acc: 0.7594 - val_loss: 1.1909 - val_acc: 0.6023\n",
      "Epoch 37/50\n",
      "50000/50000 [==============================] - 8s 158us/step - loss: 0.6898 - acc: 0.7638 - val_loss: 1.1706 - val_acc: 0.6065\n",
      "Epoch 38/50\n",
      "50000/50000 [==============================] - 8s 155us/step - loss: 0.6797 - acc: 0.7676 - val_loss: 1.1878 - val_acc: 0.6057\n",
      "Epoch 39/50\n",
      "50000/50000 [==============================] - 8s 157us/step - loss: 0.6695 - acc: 0.7717 - val_loss: 1.2016 - val_acc: 0.6008\n",
      "Epoch 40/50\n",
      "50000/50000 [==============================] - 8s 155us/step - loss: 0.6589 - acc: 0.7752 - val_loss: 1.2577 - val_acc: 0.5939\n",
      "Epoch 41/50\n",
      "50000/50000 [==============================] - 8s 162us/step - loss: 0.6459 - acc: 0.7798 - val_loss: 1.2111 - val_acc: 0.6027\n",
      "Epoch 42/50\n",
      "50000/50000 [==============================] - 8s 158us/step - loss: 0.6341 - acc: 0.7831 - val_loss: 1.2195 - val_acc: 0.6019\n",
      "Epoch 43/50\n",
      "50000/50000 [==============================] - 8s 166us/step - loss: 0.6249 - acc: 0.7875 - val_loss: 1.2016 - val_acc: 0.6046\n",
      "Epoch 44/50\n",
      "50000/50000 [==============================] - 8s 166us/step - loss: 0.6140 - acc: 0.7907 - val_loss: 1.2109 - val_acc: 0.6105\n",
      "Epoch 45/50\n",
      "50000/50000 [==============================] - 8s 165us/step - loss: 0.6033 - acc: 0.7967 - val_loss: 1.3064 - val_acc: 0.5894\n",
      "Epoch 46/50\n",
      "50000/50000 [==============================] - 9s 174us/step - loss: 0.5934 - acc: 0.7982 - val_loss: 1.2127 - val_acc: 0.6100\n",
      "Epoch 47/50\n",
      "50000/50000 [==============================] - 11s 214us/step - loss: 0.5847 - acc: 0.8009 - val_loss: 1.2770 - val_acc: 0.5897\n",
      "Epoch 48/50\n",
      "50000/50000 [==============================] - 8s 168us/step - loss: 0.5746 - acc: 0.8059 - val_loss: 1.3366 - val_acc: 0.5756\n",
      "Epoch 49/50\n",
      "50000/50000 [==============================] - 8s 160us/step - loss: 0.5676 - acc: 0.8082 - val_loss: 1.2876 - val_acc: 0.5997\n",
      "Epoch 50/50\n",
      "50000/50000 [==============================] - 8s 160us/step - loss: 0.5570 - acc: 0.8125 - val_loss: 1.2877 - val_acc: 0.5983\n"
     ]
    }
   ],
   "source": [
    "model.compile(loss='categorical_crossentropy', optimizer=opt, metrics=['accuracy'])\n",
    "history = model.fit(xtrain, ytrain, validation_data=(xtest, ytest), batch_size=batch_size,\n",
    "                   epochs=max_epochs, verbose=1)"
   ]
  },
  {
   "cell_type": "markdown",
   "metadata": {},
   "source": [
    "## Evaluating the network and classification report"
   ]
  },
  {
   "cell_type": "code",
   "execution_count": 18,
   "metadata": {},
   "outputs": [
    {
     "name": "stdout",
     "output_type": "stream",
     "text": [
      "              precision    recall  f1-score   support\n",
      "\n",
      "    airplane       0.73      0.50      0.60      1000\n",
      "  automobile       0.72      0.74      0.73      1000\n",
      "        bird       0.38      0.60      0.47      1000\n",
      "         cat       0.47      0.42      0.44      1000\n",
      "        deer       0.50      0.54      0.52      1000\n",
      "         dog       0.58      0.38      0.46      1000\n",
      "        frog       0.77      0.58      0.67      1000\n",
      "       horse       0.62      0.73      0.67      1000\n",
      "        ship       0.71      0.76      0.74      1000\n",
      "       truck       0.66      0.73      0.69      1000\n",
      "\n",
      "   micro avg       0.60      0.60      0.60     10000\n",
      "   macro avg       0.62      0.60      0.60     10000\n",
      "weighted avg       0.62      0.60      0.60     10000\n",
      "\n"
     ]
    }
   ],
   "source": [
    "ypred = model.predict(xtest, batch_size=batch_size)\n",
    "\n",
    "# class label names for cifar10 dataset\n",
    "label_names = ['airplane', 'automobile', 'bird',\n",
    "               'cat', 'deer', 'dog', 'frog',\n",
    "               'horse', 'ship', 'truck']\n",
    "\n",
    "# classification report\n",
    "print(classification_report(ytest.argmax(axis=1),\n",
    "                           ypred.argmax(axis=1),\n",
    "                           target_names=label_names))"
   ]
  },
  {
   "cell_type": "markdown",
   "metadata": {},
   "source": [
    "## Training loss and accuracy"
   ]
  },
  {
   "cell_type": "code",
   "execution_count": 27,
   "metadata": {},
   "outputs": [
    {
     "data": {
      "image/png": "[encoded data removed]",
      "text/plain": [
       "<Figure size 720x504 with 1 Axes>"
      ]
     },
     "metadata": {},
     "output_type": "display_data"
    }
   ],
   "source": [
    "plt.style.use('ggplot')\n",
    "plt.figure(figsize=(10, 7))\n",
    "\n",
    "plt.plot(np.arange(max_epochs), history.history['loss'], label='train_loss')\n",
    "plt.plot(np.arange(max_epochs), history.history['val_loss'], label='val_loss')\n",
    "plt.plot(np.arange(max_epochs), history.history['acc'], label='train_acc')\n",
    "plt.plot(np.arange(max_epochs), history.history['val_acc'], label='val_acc')\n",
    "\n",
    "plt.title('Training Loss and Accuracy')\n",
    "plt.xlabel('Epoch #')\n",
    "plt.ylabel('Loss / Accuracy')\n",
    "plt.legend()\n",
    "plt.show()"
   ]
  },
  {
   "cell_type": "code",
   "execution_count": null,
   "metadata": {},
   "outputs": [],
   "source": []
  }
 ],
 "metadata": {
  "kernelspec": {
   "display_name": "Python 3",
   "language": "python",
   "name": "python3"
  },
  "language_info": {
   "codemirror_mode": {
    "name": "ipython",
    "version": 3
   },
   "file_extension": ".py",
   "mimetype": "text/x-python",
   "name": "python",
   "nbconvert_exporter": "python",
   "pygments_lexer": "ipython3",
   "version": "3.6.5"
  }
 },
 "nbformat": 4,
 "nbformat_minor": 2
}
